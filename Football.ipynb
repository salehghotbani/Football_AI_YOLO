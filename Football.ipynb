{
 "cells": [
  {
   "cell_type": "code",
   "id": "initial_id",
   "metadata": {
    "collapsed": true
   },
   "source": "!nvidia-smi",
   "outputs": [],
   "execution_count": null
  },
  {
   "cell_type": "code",
   "id": "29a3f77812cae581",
   "metadata": {},
   "source": [
    "!pip install -q ultralytics roboflow"
   ],
   "outputs": [],
   "execution_count": null
  },
  {
   "cell_type": "code",
   "id": "b36a89f7c7805285",
   "metadata": {
    "jupyter": {
     "is_executing": true
    }
   },
   "source": [
    "!yolo task=detect mode=train model=E:\\projects\\FootbalRoboflow\\yolo11n.pt data=E:\\projects\\FootbalRoboflow\\football\\data.yaml batch=10 epochs=50 imgsz=1280 plots=True"
   ],
   "outputs": [],
   "execution_count": null
  },
  {
   "cell_type": "code",
   "id": "9c81b7dfa71bf2c6",
   "metadata": {},
   "source": [
    "!yolo task=detect mode=val model=E:\\projects\\FootbalRoboflow\\runs\\detect\\train\\weights\\best.pt data=E:\\projects\\FootbalRoboflow\\football\\data.yaml imgsz=1280"
   ],
   "outputs": [],
   "execution_count": null
  },
  {
   "cell_type": "code",
   "id": "0ea375b9",
   "metadata": {},
   "source": "!pip install -q supervision",
   "outputs": [],
   "execution_count": null
  },
  {
   "metadata": {},
   "cell_type": "code",
   "source": [
    "!gdown -O \"0bfacc_0.mp4\" \"https://drive.google.com/uc?id=12TqauVZ9tLAv8kWxTTBFWtgt2hNQ4_ZF\"\n",
    "!gdown -O \"2e57b9_0.mp4\" \"https://drive.google.com/uc?id=19PGw55V8aA6GZu5-Aac5_9mCy3fNxmEf\"\n",
    "!gdown -O \"08fd33_0.mp4\" \"https://drive.google.com/uc?id=1OG8K6wqUw9t7lp9ms1M48DxRhwTYciK-\"\n",
    "!gdown -O \"573e61_0.mp4\" \"https://drive.google.com/uc?id=1yYPKuXbHsCxqjA9G-S6aeR2Kcnos8RPU\"\n",
    "!gdown -O \"121364_0.mp4\" \"https://drive.google.com/uc?id=1vVwjW1dE1drIdd4ZSILfbCGPD4weoNiu\""
   ],
   "id": "aaca5cc7",
   "outputs": [],
   "execution_count": null
  },
  {
   "metadata": {},
   "cell_type": "code",
   "source": [
    "from ultralytics import YOLO\n",
    "\n",
    "model = YOLO('runs/detect/train/weights/best.pt')\n",
    "\n",
    "result = model(source='download_3.mp4', show=False, conf=0.4, save=True)"
   ],
   "id": "24a95bf9e662eb43",
   "outputs": [],
   "execution_count": null
  },
  {
   "cell_type": "code",
   "id": "3af8df62",
   "metadata": {},
   "source": [
    "from ultralytics import YOLO\n",
    "from tqdm import tqdm\n",
    "import supervision as sv\n",
    "\n",
    "# Initialize the YOLO model\n",
    "yolo_model = YOLO(\"E:/projects/FootbalRoboflow/runs/detect/train/weights/best.pt\")\n",
    "\n",
    "# Annotators\n",
    "box_annotator = sv.BoxAnnotator(\n",
    "    color=sv.ColorPalette.from_hex(['#FF8C00', '#00BFFF', '#FF1493', '#FFD700']),\n",
    "    thickness=2\n",
    ")\n",
    "label_annotator = sv.LabelAnnotator(\n",
    "    color=sv.ColorPalette.from_hex(['#FF8C00', '#00BFFF', '#FF1493', '#FFD700']),\n",
    "    text_color=sv.Color.from_hex('#000000')\n",
    ")\n",
    "\n",
    "SOURCE_VIDEO_PATH = \"E:/projects/FootbalRoboflow/download_3.mp4\"\n",
    "TARGET_VIDEO_PATH = \"E:/projects/FootbalRoboflow/download_result.mp4\"\n",
    "\n",
    "# Frame generator from supervision\n",
    "video_info = sv.VideoInfo.from_video_path(SOURCE_VIDEO_PATH)\n",
    "video_sink = sv.VideoSink(TARGET_VIDEO_PATH, video_info=video_info)\n",
    "frame_generator = sv.get_video_frames_generator(SOURCE_VIDEO_PATH)\n",
    "\n",
    "with video_sink:\n",
    "    for frame in tqdm(frame_generator, total=video_info.total_frames):\n",
    "        results = yolo_model(frame, conf=0.4, save=False)\n",
    "\n",
    "        # Extract detections from results\n",
    "        detections = results[0]  # Get the first frame's results\n",
    "        # Create supervision Detections object\n",
    "        supervision_detections = sv.Detections.from_ultralytics(detections)\n",
    "\n",
    "        # Create labels\n",
    "\n",
    "\n",
    "        # Annotate frame\n",
    "        annotated_frame = frame.copy()\n",
    "        annotated_frame = box_annotator.annotate(scene=annotated_frame, detections=supervision_detections)\n",
    "        video_sink.write_frame(annotated_frame)\n"
   ],
   "outputs": [],
   "execution_count": null
  },
  {
   "metadata": {},
   "cell_type": "code",
   "source": "",
   "id": "a9875876c584dd8f",
   "outputs": [],
   "execution_count": null
  }
 ],
 "metadata": {
  "kernelspec": {
   "display_name": "Python 3",
   "language": "python",
   "name": "python3"
  },
  "language_info": {
   "codemirror_mode": {
    "name": "ipython",
    "version": 3
   },
   "file_extension": ".py",
   "mimetype": "text/x-python",
   "name": "python",
   "nbconvert_exporter": "python",
   "pygments_lexer": "ipython3",
   "version": "3.12.4"
  }
 },
 "nbformat": 4,
 "nbformat_minor": 5
}
